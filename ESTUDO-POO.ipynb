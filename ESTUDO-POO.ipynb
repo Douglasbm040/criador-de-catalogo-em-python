{
 "cells": [
  {
   "cell_type": "code",
   "execution_count": 2,
   "metadata": {},
   "outputs": [],
   "source": [
    "#! ! pip install FPDF"
   ]
  },
  {
   "cell_type": "code",
   "execution_count": 22,
   "metadata": {},
   "outputs": [],
   "source": [
    "from fpdf import FPDF\r\n",
    "from PIL import Image"
   ]
  },
  {
   "cell_type": "markdown",
   "metadata": {},
   "source": [
    "# deve renomear as imagens com mesmo nome \r\n",
    "# selecione tudo usando 'crtl + a', selecione renomear e digite um nome para padronizar todos os arquivos\r\n",
    "# exemplo para declarar o caminho do arquivos \\\\"
   ]
  },
  {
   "cell_type": "code",
   "execution_count": null,
   "metadata": {},
   "outputs": [],
   "source": [
    "imagem='C:\\\\Users\\\\dougl\\\\Desktop\\\\projetos\\python\\\\fotos-20210624T144130Z-001\\\\sapato\\\\'"
   ]
  },
  {
   "cell_type": "code",
   "execution_count": 17,
   "metadata": {},
   "outputs": [],
   "source": [
    "class Imagem ():    \r\n",
    "    def localizar_imagens (nome_da_imagem,local_das_imagens, numero_de_imagens):\r\n",
    "        listaImagens = []\r\n",
    "        listaPages= []\r\n",
    "        for i in range(1,numero_de_imagens + 1):\r\n",
    "            #i.toString()\r\n",
    "        # Abra a imagem | Coloque o local da imagem!\r\n",
    "             imagem = Image.open(local_das_imagens + nome_da_imagem + str(i) + ').jpg')\r\n",
    "             listaImagens.append(imagem)\r\n",
    "             caminho = local_das_imagens + nome_da_imagem + str(i) + ').jpg'\r\n",
    "             listaPages.append(caminho)\r\n",
    "        return imagem , caminho "
   ]
  },
  {
   "cell_type": "code",
   "execution_count": 8,
   "metadata": {},
   "outputs": [],
   "source": [
    "class Pdf():\r\n",
    "    def fabricar_PDF (batizar_pdf,imagem,caminho):\r\n",
    "        pdfFileName = 'catalogo de sapatos'\r\n",
    "        dir = ''\r\n",
    "        if (dir):\r\n",
    "            dir += \"/\"\r\n",
    "        \r\n",
    "        cover = imagem\r\n",
    "        width, height = cover.size\r\n",
    "        \r\n",
    "        pdf = FPDF(unit = \"pt\", format = [width, height])\r\n",
    "        \r\n",
    "    \r\n",
    "        for page in caminho:\r\n",
    "            pdf.add_page()\r\n",
    "            pdf.image(page, 0, 0)\r\n",
    "        \r\n",
    "        return pdf.output(dir + pdfFileName + \".pdf\", \"F\")"
   ]
  },
  {
   "cell_type": "code",
   "execution_count": null,
   "metadata": {},
   "outputs": [],
   "source": [
    "imagem=Imagem.localizar_imagens('sapatos',local_das_imagens , 147)\r\n",
    "Pdf.fabricar_PDF('CATALOGO', imagem[0], imagem[1])"
   ]
  }
 ],
 "metadata": {
  "interpreter": {
   "hash": "d47ec9e6ee19090eb6316533589df9a6e0a838269e27ad68ef54f091f805a7a9"
  },
  "kernelspec": {
   "display_name": "Python 3.9.5 64-bit",
   "name": "python3"
  },
  "language_info": {
   "codemirror_mode": {
    "name": "ipython",
    "version": 3
   },
   "file_extension": ".py",
   "mimetype": "text/x-python",
   "name": "python",
   "nbconvert_exporter": "python",
   "pygments_lexer": "ipython3",
   "version": "3.9.5"
  }
 },
 "nbformat": 4,
 "nbformat_minor": 5
}