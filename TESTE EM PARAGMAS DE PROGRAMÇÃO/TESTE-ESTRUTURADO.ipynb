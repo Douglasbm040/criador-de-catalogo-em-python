{
 "cells": [
  {
   "cell_type": "code",
   "execution_count": null,
   "metadata": {},
   "outputs": [],
   "source": [
    "! pip install FPDF"
   ]
  },
  {
   "cell_type": "code",
   "execution_count": null,
   "metadata": {},
   "outputs": [],
   "source": [
    "from fpdf import FPDF\r\n",
    "from PIL import Image"
   ]
  },
  {
   "cell_type": "code",
   "execution_count": null,
   "metadata": {},
   "outputs": [],
   "source": [
    "listaImagens = []\r\n",
    "listaPages=[]\r\n",
    "for i in range(1,147):\r\n",
    "    #i.toString()\r\n",
    "# Abra a imagem | Coloque o local da imagem!\r\n",
    "     im1 = Image.open(r'C:\\Users\\dougl\\Desktop\\projetos\\python\\fotos-20210624T144130Z-001\\sapato\\sapatos ('+str(i)+').jpg')\r\n",
    "     listaImagens.append(im1)\r\n",
    "     caminho = r'C:\\Users\\dougl\\Desktop\\projetos\\python\\fotos-20210624T144130Z-001\\sapato\\sapatos ('+str(i)+').jpg'\r\n",
    "     listaPages.append(caminho)\r\n",
    "\r\n",
    "pdfFileName = 'catalogo de sapatos'\r\n",
    "dir = ''\r\n",
    "if (dir):\r\n",
    "    dir += \"/\"\r\n",
    "\r\n",
    "cover = listaImagens[0]\r\n",
    "width, height = cover.size\r\n",
    "\r\n",
    "pdf = FPDF(unit = \"pt\", format = [width, height])\r\n",
    "    \r\n",
    "\r\n",
    "for page in listaPages:\r\n",
    "    pdf.add_page()\r\n",
    "    pdf.image(page, 0, 0)\r\n",
    "\r\n",
    "pdf.output(dir + pdfFileName + \".pdf\", \"F\")"
   ]
  }
 ],
 "metadata": {
  "interpreter": {
   "hash": "d47ec9e6ee19090eb6316533589df9a6e0a838269e27ad68ef54f091f805a7a9"
  },
  "kernelspec": {
   "display_name": "Python 3.9.5 64-bit",
   "name": "python3"
  },
  "language_info": {
   "name": "python",
   "version": ""
  },
  "orig_nbformat": 4
 },
 "nbformat": 4,
 "nbformat_minor": 2
}