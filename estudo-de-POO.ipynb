{
 "cells": [
  {
   "cell_type": "code",
   "execution_count": 2,
   "id": "a2210c94",
   "metadata": {},
   "outputs": [],
   "source": [
    "# Importe a biblioteca\n",
    "from PIL import Image\n",
    "\n",
    "listaImagens = []\n",
    "for i in range(1,395):\n",
    "    #i.toString()\n",
    "# Abra a imagem | Coloque o local da imagem!\n",
    "     im1 = Image.open(r\"C:\\Users\\dougl\\Desktop\\projetos\\python\\fotos-20210624T144130Z-001\\fotos\\imagens (\"+str(i)+').jpg')\n",
    "     listaImagens.append(im1)\n",
    " # Defina uma lista com as imagens\n",
    "\n",
    "for i in listaImagens:\n",
    "#  # Coloque a imagem dentro de um PDF chamado arquivo.pdf\n",
    "    i.save(\"catalogo.pdf\", \"PDF\" ,resolution = 100.0, save_all=True, append_image=listaImagens)"
   ]
  },
  {
   "cell_type": "code",
   "execution_count": 3,
   "id": "4213546a",
   "metadata": {},
   "outputs": [
    {
     "name": "stdout",
     "output_type": "stream",
     "text": [
      "Collecting FPDF\n",
      "  Downloading fpdf-1.7.2.tar.gz (39 kB)\n",
      "Building wheels for collected packages: FPDF\n",
      "  Building wheel for FPDF (setup.py): started\n",
      "  Building wheel for FPDF (setup.py): finished with status 'done'\n",
      "  Created wheel for FPDF: filename=fpdf-1.7.2-py2.py3-none-any.whl size=40722 sha256=38238c78a0979057b0d16f7001d648a4ba199ade36928028b2f38b65634b5d46\n",
      "  Stored in directory: c:\\users\\dougl\\appdata\\local\\pip\\cache\\wheels\\b4\\7f\\00\\f90ea7c44f8b921477205baa66a7aaf04be398f743ea946fd5\n",
      "Successfully built FPDF\n",
      "Installing collected packages: FPDF\n",
      "Successfully installed FPDF-1.7.2\n",
      "Note: you may need to restart the kernel to use updated packages.\n"
     ]
    }
   ],
   "source": [
    "! pip install FPDF\n"
   ]
  },
  {
   "cell_type": "code",
   "execution_count": null,
   "id": "4fb76013",
   "metadata": {},
   "outputs": [],
   "source": []
  },
  {
   "cell_type": "code",
   "execution_count": 12,
   "id": "d0abc831",
   "metadata": {},
   "outputs": [],
   "source": [
    "\n",
    "def makePdf(pdfFileName, listPages, dir = ''):\n",
    "    if (dir):\n",
    "        dir += \"/\"\n",
    "\n",
    "    cover = Image.open(dir + str(listPages[0]) + \".jpg\")\n",
    "    width, height = cover.size\n",
    "\n",
    "    pdf = FPDF(unit = \"pt\", format = [width, height])\n",
    "    \n",
    "\n",
    "    for page in listPages:\n",
    "        pdf.add_page()\n",
    "        pdf.image(dir + str(page) + \".jpg\", 0, 0)\n",
    "\n",
    "    pdf.output(dir + pdfFileName + \".pdf\", \"F\")"
   ]
  },
  {
   "cell_type": "code",
   "execution_count": 17,
   "id": "cbaaaf01",
   "metadata": {},
   "outputs": [],
   "source": [
    "def criarpdf(pdfFileName,listapages,dir = ''):\n",
    "\n",
    "    if (dir):\n",
    "        dir += \"/\"\n",
    "\n",
    "    cover = Image.open(listaPages[0])\n",
    "    width, height = cover.size\n",
    "\n",
    "    pdf = FPDF(unit = \"pt\", format = [width, height])\n",
    "    \n",
    "\n",
    "    for page in listaPages:\n",
    "        pdf.add_page()\n",
    "        pdf.image(page, 0, 0)\n",
    "\n",
    "    pdf.output(dir + pdfFileName + \".pdf\", \"F\")"
   ]
  },
  {
   "cell_type": "code",
   "execution_count": 19,
   "id": "a901498b",
   "metadata": {},
   "outputs": [
    {
     "ename": "TypeError",
     "evalue": "unsupported operand type(s) for +=: 'function' and 'str'",
     "output_type": "error",
     "traceback": [
      "\u001b[1;31m---------------------------------------------------------------------------\u001b[0m",
      "\u001b[1;31mTypeError\u001b[0m                                 Traceback (most recent call last)",
      "\u001b[1;32m<ipython-input-19-77a40a5d869b>\u001b[0m in \u001b[0;36m<module>\u001b[1;34m\u001b[0m\n\u001b[0;32m      2\u001b[0m \u001b[0mbolsas\u001b[0m\u001b[1;33m=\u001b[0m\u001b[1;34mr'C:\\Users\\dougl\\Desktop\\projetos\\python\\fotos-20210624T144130Z-001\\bolsas'\u001b[0m\u001b[1;33m\u001b[0m\u001b[1;33m\u001b[0m\u001b[0m\n\u001b[0;32m      3\u001b[0m \u001b[0mlista_de_caminhos\u001b[0m\u001b[1;33m(\u001b[0m\u001b[1;36m147\u001b[0m\u001b[1;33m,\u001b[0m\u001b[0msapatos\u001b[0m\u001b[1;33m)\u001b[0m\u001b[1;33m\u001b[0m\u001b[1;33m\u001b[0m\u001b[0m\n\u001b[1;32m----> 4\u001b[1;33m \u001b[0mcriarpdf\u001b[0m\u001b[1;33m(\u001b[0m\u001b[1;34m'oi'\u001b[0m\u001b[1;33m,\u001b[0m\u001b[0mlista_de_caminhos\u001b[0m\u001b[1;33m)\u001b[0m\u001b[1;33m\u001b[0m\u001b[1;33m\u001b[0m\u001b[0m\n\u001b[0m",
      "\u001b[1;32m<ipython-input-17-1eecfeb8ba56>\u001b[0m in \u001b[0;36mcriarpdf\u001b[1;34m(pdfFileName, dir)\u001b[0m\n\u001b[0;32m      2\u001b[0m \u001b[1;33m\u001b[0m\u001b[0m\n\u001b[0;32m      3\u001b[0m     \u001b[1;32mif\u001b[0m \u001b[1;33m(\u001b[0m\u001b[0mdir\u001b[0m\u001b[1;33m)\u001b[0m\u001b[1;33m:\u001b[0m\u001b[1;33m\u001b[0m\u001b[1;33m\u001b[0m\u001b[0m\n\u001b[1;32m----> 4\u001b[1;33m         \u001b[0mdir\u001b[0m \u001b[1;33m+=\u001b[0m \u001b[1;34m\"/\"\u001b[0m\u001b[1;33m\u001b[0m\u001b[1;33m\u001b[0m\u001b[0m\n\u001b[0m\u001b[0;32m      5\u001b[0m \u001b[1;33m\u001b[0m\u001b[0m\n\u001b[0;32m      6\u001b[0m     \u001b[0mcover\u001b[0m \u001b[1;33m=\u001b[0m \u001b[0mImage\u001b[0m\u001b[1;33m.\u001b[0m\u001b[0mopen\u001b[0m\u001b[1;33m(\u001b[0m\u001b[0mlistaPages\u001b[0m\u001b[1;33m[\u001b[0m\u001b[1;36m0\u001b[0m\u001b[1;33m]\u001b[0m\u001b[1;33m)\u001b[0m\u001b[1;33m\u001b[0m\u001b[1;33m\u001b[0m\u001b[0m\n",
      "\u001b[1;31mTypeError\u001b[0m: unsupported operand type(s) for +=: 'function' and 'str'"
     ]
    }
   ],
   "source": [
    "sapatos=r'C:\\Users\\dougl\\Desktop\\projetos\\python\\fotos-20210624T144130Z-001\\sapato'\n",
    "bolsas=r'C:\\Users\\dougl\\Desktop\\projetos\\python\\fotos-20210624T144130Z-001\\bolsas'\n",
    "lista_de_caminhos(147,sapatos)\n",
    "criarpdf('oi',lista_de_caminhos)"
   ]
  },
  {
   "cell_type": "code",
   "execution_count": 39,
   "id": "a93a328a",
   "metadata": {},
   "outputs": [],
   "source": [
    "from fpdf import FPDF\n",
    "from PIL import Image\n",
    "listaImagens = []\n",
    "listaPages=[]\n",
    "for i in range(1,147):\n",
    "    #i.toString()\n",
    "# Abra a imagem | Coloque o local da imagem!\n",
    "     im1 = Image.open(r'C:\\Users\\dougl\\Desktop\\projetos\\python\\fotos-20210624T144130Z-001\\sapato\\sapatos ('+str(i)+').jpg')\n",
    "     listaImagens.append(im1)\n",
    "     caminho = r'C:\\Users\\dougl\\Desktop\\projetos\\python\\fotos-20210624T144130Z-001\\sapato\\sapatos ('+str(i)+').jpg'\n",
    "     listaPages.append(caminho)\n",
    "\n",
    "pdfFileName = 'catalogo de sapatos'\n",
    "dir = ''\n",
    "if (dir):\n",
    "    dir += \"/\"\n",
    "\n",
    "cover = listaImagens[0]\n",
    "width, height = cover.size\n",
    "\n",
    "pdf = FPDF(unit = \"pt\", format = [width, height])\n",
    "    \n",
    "\n",
    "for page in listaPages:\n",
    "    pdf.add_page()\n",
    "    pdf.image(page, 0, 0)\n",
    "\n",
    "pdf.output(dir + pdfFileName + \".pdf\", \"F\")"
   ]
  },
  {
   "cell_type": "code",
   "execution_count": 22,
   "id": "f689df01",
   "metadata": {},
   "outputs": [],
   "source": [
    "from fpdf import FPDF\n",
    "from PIL import Image\n",
    "# deve renomear as imagens com mesmo nome \n",
    "# selecione tudo usando 'crtl + a', selecione renomear e digite um nome para padronizar todos os arquivos\n",
    "# exemplo para declarar o caminho do arquivos \\\\\n",
    "imagem='C:\\\\Users\\\\dougl\\\\Desktop\\\\projetos\\python\\\\fotos-20210624T144130Z-001\\\\sapato\\\\'"
   ]
  },
  {
   "cell_type": "code",
   "execution_count": 17,
   "id": "4fca5e27",
   "metadata": {},
   "outputs": [],
   "source": [
    "def imagens (nome_da_imagem,local_das_imagens,numero_de_imagens):\n",
    "    listaImagens = []\n",
    "    listaPages=[]\n",
    "    for i in range(1,numero_de_imagens+1):\n",
    "        #i.toString()\n",
    "    # Abra a imagem | Coloque o local da imagem!\n",
    "         imagem = Image.open(local_das_imagens+nome_da_imagem+str(i)+').jpg')\n",
    "         listaImagens.append(imagem)\n",
    "         caminho =local_das_imagens+nome_da_imagem\n",
    "        +str(i)+').jpg'\n",
    "         listaPages.append(caminho)\n",
    "    return imagem , caminho "
   ]
  },
  {
   "cell_type": "code",
   "execution_count": 8,
   "id": "6042b5ce",
   "metadata": {},
   "outputs": [],
   "source": [
    "def fabricar_PDF (batizar_pdf,imagem,caminho):\n",
    "    pdfFileName = 'catalogo de sapatos'\n",
    "    dir = ''\n",
    "    if (dir):\n",
    "        dir += \"/\"\n",
    "    \n",
    "    cover = imagem\n",
    "    width, height = cover.size\n",
    "    \n",
    "    pdf = FPDF(unit = \"pt\", format = [width, height])\n",
    "    \n",
    "\n",
    "    for page in caminho:\n",
    "        pdf.add_page()\n",
    "        pdf.image(page, 0, 0)\n",
    "    \n",
    "    return pdf.output(dir + pdfFileName + \".pdf\", \"F\")"
   ]
  },
  {
   "cell_type": "code",
   "execution_count": 25,
   "id": "8837e5de",
   "metadata": {},
   "outputs": [
    {
     "ename": "FileNotFoundError",
     "evalue": "[Errno 2] No such file or directory: 'C:\\\\Users\\\\dougl\\\\Desktop\\\\projetos\\\\python\\\\fotos-20210624T144130Z-001\\\\sapato\\\\sapatos 1).jpg'",
     "output_type": "error",
     "traceback": [
      "\u001b[1;31m---------------------------------------------------------------------------\u001b[0m",
      "\u001b[1;31mFileNotFoundError\u001b[0m                         Traceback (most recent call last)",
      "\u001b[1;32m<ipython-input-25-5738a2a2e8ad>\u001b[0m in \u001b[0;36m<module>\u001b[1;34m\u001b[0m\n\u001b[1;32m----> 1\u001b[1;33m \u001b[0mimagens\u001b[0m\u001b[1;33m(\u001b[0m\u001b[1;34m'sapatos '\u001b[0m\u001b[1;33m,\u001b[0m\u001b[0mimagem\u001b[0m\u001b[1;33m,\u001b[0m\u001b[1;36m146\u001b[0m\u001b[1;33m)\u001b[0m\u001b[1;33m\u001b[0m\u001b[1;33m\u001b[0m\u001b[0m\n\u001b[0m",
      "\u001b[1;32m<ipython-input-17-19130b299e4b>\u001b[0m in \u001b[0;36mimagens\u001b[1;34m(nome_da_imagem, local_das_imagens, numero_de_imagens)\u001b[0m\n\u001b[0;32m      5\u001b[0m         \u001b[1;31m#i.toString()\u001b[0m\u001b[1;33m\u001b[0m\u001b[1;33m\u001b[0m\u001b[1;33m\u001b[0m\u001b[0m\n\u001b[0;32m      6\u001b[0m     \u001b[1;31m# Abra a imagem | Coloque o local da imagem!\u001b[0m\u001b[1;33m\u001b[0m\u001b[1;33m\u001b[0m\u001b[1;33m\u001b[0m\u001b[0m\n\u001b[1;32m----> 7\u001b[1;33m          \u001b[0mimagem\u001b[0m \u001b[1;33m=\u001b[0m \u001b[0mImage\u001b[0m\u001b[1;33m.\u001b[0m\u001b[0mopen\u001b[0m\u001b[1;33m(\u001b[0m\u001b[0mlocal_das_imagens\u001b[0m\u001b[1;33m+\u001b[0m\u001b[0mnome_da_imagem\u001b[0m\u001b[1;33m+\u001b[0m\u001b[0mstr\u001b[0m\u001b[1;33m(\u001b[0m\u001b[0mi\u001b[0m\u001b[1;33m)\u001b[0m\u001b[1;33m+\u001b[0m\u001b[1;34m').jpg'\u001b[0m\u001b[1;33m)\u001b[0m\u001b[1;33m\u001b[0m\u001b[1;33m\u001b[0m\u001b[0m\n\u001b[0m\u001b[0;32m      8\u001b[0m          \u001b[0mlistaImagens\u001b[0m\u001b[1;33m.\u001b[0m\u001b[0mappend\u001b[0m\u001b[1;33m(\u001b[0m\u001b[0mimagem\u001b[0m\u001b[1;33m)\u001b[0m\u001b[1;33m\u001b[0m\u001b[1;33m\u001b[0m\u001b[0m\n\u001b[0;32m      9\u001b[0m          \u001b[0mcaminho\u001b[0m \u001b[1;33m=\u001b[0m\u001b[0mlocal_das_imagens\u001b[0m\u001b[1;33m+\u001b[0m\u001b[0mnome_da_imagem\u001b[0m\u001b[1;33m+\u001b[0m\u001b[0mstr\u001b[0m\u001b[1;33m(\u001b[0m\u001b[0mi\u001b[0m\u001b[1;33m)\u001b[0m\u001b[1;33m+\u001b[0m\u001b[1;34m').jpg'\u001b[0m\u001b[1;33m\u001b[0m\u001b[1;33m\u001b[0m\u001b[0m\n",
      "\u001b[1;32m~\\anaconda3\\lib\\site-packages\\PIL\\Image.py\u001b[0m in \u001b[0;36mopen\u001b[1;34m(fp, mode, formats)\u001b[0m\n\u001b[0;32m   2910\u001b[0m \u001b[1;33m\u001b[0m\u001b[0m\n\u001b[0;32m   2911\u001b[0m     \u001b[1;32mif\u001b[0m \u001b[0mfilename\u001b[0m\u001b[1;33m:\u001b[0m\u001b[1;33m\u001b[0m\u001b[1;33m\u001b[0m\u001b[0m\n\u001b[1;32m-> 2912\u001b[1;33m         \u001b[0mfp\u001b[0m \u001b[1;33m=\u001b[0m \u001b[0mbuiltins\u001b[0m\u001b[1;33m.\u001b[0m\u001b[0mopen\u001b[0m\u001b[1;33m(\u001b[0m\u001b[0mfilename\u001b[0m\u001b[1;33m,\u001b[0m \u001b[1;34m\"rb\"\u001b[0m\u001b[1;33m)\u001b[0m\u001b[1;33m\u001b[0m\u001b[1;33m\u001b[0m\u001b[0m\n\u001b[0m\u001b[0;32m   2913\u001b[0m         \u001b[0mexclusive_fp\u001b[0m \u001b[1;33m=\u001b[0m \u001b[1;32mTrue\u001b[0m\u001b[1;33m\u001b[0m\u001b[1;33m\u001b[0m\u001b[0m\n\u001b[0;32m   2914\u001b[0m \u001b[1;33m\u001b[0m\u001b[0m\n",
      "\u001b[1;31mFileNotFoundError\u001b[0m: [Errno 2] No such file or directory: 'C:\\\\Users\\\\dougl\\\\Desktop\\\\projetos\\\\python\\\\fotos-20210624T144130Z-001\\\\sapato\\\\sapatos 1).jpg'"
     ]
    }
   ],
   "source": [
    "imagens('sapatos ',imagem,146)"
   ]
  },
  {
   "cell_type": "code",
   "execution_count": null,
   "id": "5d87989f",
   "metadata": {},
   "outputs": [],
   "source": []
  },
  {
   "cell_type": "code",
   "execution_count": null,
   "id": "50f70477",
   "metadata": {},
   "outputs": [],
   "source": []
  }
 ],
 "metadata": {
  "kernelspec": {
   "display_name": "Python 3",
   "language": "python",
   "name": "python3"
  },
  "language_info": {
   "codemirror_mode": {
    "name": "ipython",
    "version": 3
   },
   "file_extension": ".py",
   "mimetype": "text/x-python",
   "name": "python",
   "nbconvert_exporter": "python",
   "pygments_lexer": "ipython3",
   "version": "3.8.8"
  }
 },
 "nbformat": 4,
 "nbformat_minor": 5
}
